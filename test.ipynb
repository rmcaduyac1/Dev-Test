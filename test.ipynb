{
 "cells": [
  {
   "cell_type": "code",
   "execution_count": 1,
   "metadata": {},
   "outputs": [],
   "source": [
    "# Import necessary libraries\n",
    "import os\n",
    "from dotenv import load_dotenv\n",
    "from langchain_openai import ChatOpenAI, OpenAIEmbeddings\n",
    "from langchain_core.documents import Document\n",
    "from langchain_chroma import Chroma\n",
    "from langchain_core.tools import tool\n",
    "from langchain_core.prompts import ChatPromptTemplate, MessagesPlaceholder\n",
    "from typing import Annotated\n",
    "from typing_extensions import TypedDict\n",
    "from langgraph.graph.message import add_messages\n",
    "from langgraph.prebuilt import ToolNode, tools_condition\n",
    "from langgraph.graph import StateGraph, START\n",
    "from langgraph.checkpoint.memory import MemorySaver"
   ]
  },
  {
   "cell_type": "code",
   "execution_count": 2,
   "metadata": {},
   "outputs": [],
   "source": [
    "# Load environment variables\n",
    "load_dotenv()\n",
    "os.environ[\"OPENAI_API_KEY\"] = os.getenv(\"OPENAI_API_KEY\")\n",
    "\n",
    "# Initialize chat model and embeddings\n",
    "chat_model = ChatOpenAI(model = \"gpt-4o-mini\")\n",
    "embed_model = OpenAIEmbeddings(model = \"text-embedding-3-small\")"
   ]
  },
  {
   "cell_type": "code",
   "execution_count": 3,
   "metadata": {},
   "outputs": [],
   "source": [
    "# Define the documents\n",
    "documents = [\n",
    "    Document(\n",
    "        page_content = \"Cybersecurity is the practice of protecting systems and networks from attacks. It includes measures like firewalls, intrusion detection, and encryption.\",\n",
    "        metadata = {\"source\": \"Document 1\"},\n",
    "    ),\n",
    "    Document(\n",
    "        page_content = \"A zero-day vulnerability is an undisclosed flaw in software that attackers can exploit before the vendor issues a fix.\",\n",
    "        metadata = {\"source\": \"Document 2\"},\n",
    "    ),\n",
    "    Document(\n",
    "        page_content = \"Two-factor authentication (2FA) enhances security by requiring users to provide two forms of verification before gaining access.\",\n",
    "        metadata = {\"source\": \"Document 3\"},\n",
    "    ),\n",
    "    Document(\n",
    "        page_content = \"Machine learning models require large datasets and are often fine-tuned to improve accuracy for specific tasks.\",\n",
    "        metadata = {\"source\": \"Document 4\"},\n",
    "    ),\n",
    "    Document(\n",
    "        page_content = \"The CIA triad—Confidentiality, Integrity, and Availability—is a foundational concept in cybersecurity.\",\n",
    "        metadata = {\"source\": \"Document 5\"},\n",
    "    ),\n",
    "]\n"
   ]
  },
  {
   "cell_type": "code",
   "execution_count": 4,
   "metadata": {},
   "outputs": [],
   "source": [
    "# Embed documents to in-memory vectorstore (ChromaDB)\n",
    "vector_store = Chroma(embedding_function = embed_model)\n",
    "ids = vector_store.add_documents(documents = documents)"
   ]
  },
  {
   "cell_type": "code",
   "execution_count": 5,
   "metadata": {},
   "outputs": [],
   "source": [
    "# Define system prompt for the chatbot\n",
    "SYSTEM_PROMPT = \"\"\"\n",
    "    You are an expert assistant whose primary goal is to answer user questions concisely.\n",
    "    Don't answer very long unless needed. \n",
    "    When a user asks a question, you must first determine if the answer can be provided directly from your existing knowledge. \n",
    "    If the answer is not sufficiently clear or complete, then you should consider retrieving additional or updated information using the designated tool. \n",
    "    The tools are specifically available for questions related to cybersecurity and tech insights.\n",
    "\n",
    "    When processing query:\n",
    "\n",
    "    1. Direct Answer: If the question is general or can be answered directly, provide a clear and direct answer without tool usage.\n",
    "    \n",
    "    2. Tool Retrieval: For questions involving cybersecurity and tech insights. Use the tool only when it improves the accuracy and relevance of your answer.\n",
    "\n",
    "    3. Responsibility: Always ensure that your answer is helpful, precise, contextually relevant, and short. \n",
    "\n",
    "    4. Clarity: If you are unsure whether to answer directly or use a tool, briefly explain your reasoning before proceeding.\n",
    "\"\"\""
   ]
  },
  {
   "cell_type": "code",
   "execution_count": 6,
   "metadata": {},
   "outputs": [],
   "source": [
    "# Define the tools\n",
    "def retriever_tools():\n",
    "    @tool\n",
    "    def document_retrieval(query: str) -> str:\n",
    "        \"\"\"\n",
    "        Use this tool for extracting key cybersecurity and tech insights, including best practices, vulnerabilities, 2FA, and the CIA triad.\n",
    "        \"\"\"\n",
    "        batch_results = vector_store.similarity_search(query, k = 2)\n",
    "        serialized = \"\\n\\n\".join(\n",
    "                (f\"Content: {batch.page_content}\") for batch in batch_results\n",
    "            )\n",
    "            \n",
    "        return serialized\n",
    "\n",
    "    all_tools = [document_retrieval]\n",
    "\n",
    "    return all_tools\n",
    "\n",
    "# Returns the document also\n",
    "def document_retrieval_metadata(query: str):\n",
    "    \"\"\"\n",
    "    Use this tool for extracting key cybersecurity and tech insights, including best practices, vulnerabilities, 2FA, and the CIA triad.\n",
    "    \"\"\"\n",
    "    batch_results = vector_store.similarity_search(query, k = 2)\n",
    "    \n",
    "    page_contents = [result.page_content for result in batch_results]\n",
    "\n",
    "    return {\"query\": query, \"retrieved_docs\": page_contents}"
   ]
  },
  {
   "cell_type": "code",
   "execution_count": 7,
   "metadata": {},
   "outputs": [],
   "source": [
    "# Define the tools\n",
    "def retriever_tools():\n",
    "    @tool\n",
    "    def document_retrieval(query: str) -> str:\n",
    "        \"\"\"\n",
    "        Use this tool for extracting key cybersecurity and tech insights, including best practices, vulnerabilities, 2FA, and the CIA triad.\n",
    "        \"\"\"\n",
    "        batch_results = vector_store.similarity_search(query, k = 2)\n",
    "        page_contents = [result.page_content for result in batch_results]\n",
    "            \n",
    "        return page_contents\n",
    "\n",
    "    all_tools = [document_retrieval]\n",
    "\n",
    "    return all_tools"
   ]
  },
  {
   "cell_type": "code",
   "execution_count": 8,
   "metadata": {},
   "outputs": [],
   "source": [
    "# Define class state\n",
    "class State(TypedDict):\n",
    "    messages: Annotated[list, add_messages]\n",
    "\n",
    "# Build the agent graph\n",
    "def init_agent_executor(checkpoint, tools = retriever_tools(), prompt = SYSTEM_PROMPT, llm = chat_model):\n",
    "    # Define prompt\n",
    "    PROMPT = ChatPromptTemplate.from_messages(\n",
    "        [\n",
    "            (\"system\", prompt),\n",
    "            MessagesPlaceholder(variable_name = \"messages\"),\n",
    "        ]\n",
    "    )\n",
    "\n",
    "    # Bind LLM, tool, and prompt\n",
    "    bind_model = PROMPT | llm.bind_tools(tools)\n",
    "\n",
    "    # Define chatbot state\n",
    "    def chatbot(state: State):\n",
    "        return {\"messages\": [bind_model.invoke(state[\"messages\"])]}\n",
    "    \n",
    "    # Build the graph\n",
    "    graph_builder = StateGraph(State)\n",
    "\n",
    "    # Add nodes\n",
    "    graph_builder.add_node(\"chatbot\", chatbot)\n",
    "    graph_builder.add_node(\"tools\", ToolNode(tools = tools))\n",
    "\n",
    "    # Add edges\n",
    "    graph_builder.add_edge(START, \"chatbot\")\n",
    "    graph_builder.add_conditional_edges(\"chatbot\", tools_condition)\n",
    "    graph_builder.add_edge(\"tools\", \"chatbot\")\n",
    "\n",
    "    # Compile the graph\n",
    "    graph = graph_builder.compile(checkpointer = checkpoint)\n",
    "\n",
    "    return graph\n"
   ]
  },
  {
   "cell_type": "code",
   "execution_count": 11,
   "metadata": {},
   "outputs": [],
   "source": [
    "# Function to process user message\n",
    "def chatbot_response(session_id: str, query: str):\n",
    "    # Define in-memory checkpointer\n",
    "    memory = MemorySaver()\n",
    "    graph = init_agent_executor(checkpoint= memory)\n",
    "    \n",
    "    # For unique session id\n",
    "    configs = {\"configurable\": {\"thread_id\": session_id}}\n",
    "\n",
    "    # Print chatbot response\n",
    "    output = graph.invoke(\n",
    "        {\"messages\": {\"role\": \"user\", \"content\": query}}, \n",
    "        config = configs,\n",
    "    )\n",
    "    ai_response = output[\"messages\"][-1].content\n",
    "\n",
    "    # Reformat to the required output\n",
    "#    retrieved_metadata = document_retrieval_metadata(query)\n",
    "#    retrieved_metadata[\"answer\"] = ai_response\n",
    "\n",
    "    return output\n",
    "\n"
   ]
  },
  {
   "cell_type": "code",
   "execution_count": 12,
   "metadata": {},
   "outputs": [
    {
     "name": "stdout",
     "output_type": "stream",
     "text": [
      "{'messages': [HumanMessage(content='What is a zero-day vulnerability?', additional_kwargs={}, response_metadata={}, id='68e66bf0-c65b-4626-8639-64ae92d9a00d'), AIMessage(content='A zero-day vulnerability is a security flaw in software that is unknown to the vendor or developer and, therefore, has \"zero days\" of mitigation or patching available. Cyber attackers can exploit these vulnerabilities before they are discovered and addressed, making them particularly dangerous.', additional_kwargs={'refusal': None}, response_metadata={'token_usage': {'completion_tokens': 54, 'prompt_tokens': 281, 'total_tokens': 335, 'completion_tokens_details': {'accepted_prediction_tokens': 0, 'audio_tokens': 0, 'reasoning_tokens': 0, 'rejected_prediction_tokens': 0}, 'prompt_tokens_details': {'audio_tokens': 0, 'cached_tokens': 0}}, 'model_name': 'gpt-4o-mini-2024-07-18', 'system_fingerprint': 'fp_b8bc95a0ac', 'id': 'chatcmpl-BDKlRcHCLC0MwmJlf6Btx8ebjXtOM', 'finish_reason': 'stop', 'logprobs': None}, id='run-12f49b6d-961e-42cc-8aea-ec29dfc31dca-0', usage_metadata={'input_tokens': 281, 'output_tokens': 54, 'total_tokens': 335, 'input_token_details': {'audio': 0, 'cache_read': 0}, 'output_token_details': {'audio': 0, 'reasoning': 0}})]}\n"
     ]
    }
   ],
   "source": [
    "session_id = \"test_1\"\n",
    "query = \"What is a zero-day vulnerability?\"\n",
    "\n",
    "output = chatbot_response(session_id, query)\n",
    "print(output)"
   ]
  },
  {
   "cell_type": "code",
   "execution_count": null,
   "metadata": {},
   "outputs": [],
   "source": []
  }
 ],
 "metadata": {
  "kernelspec": {
   "display_name": ".venv",
   "language": "python",
   "name": "python3"
  },
  "language_info": {
   "codemirror_mode": {
    "name": "ipython",
    "version": 3
   },
   "file_extension": ".py",
   "mimetype": "text/x-python",
   "name": "python",
   "nbconvert_exporter": "python",
   "pygments_lexer": "ipython3",
   "version": "3.11.11"
  }
 },
 "nbformat": 4,
 "nbformat_minor": 2
}
